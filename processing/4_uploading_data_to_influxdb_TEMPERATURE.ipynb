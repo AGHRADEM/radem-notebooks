{
 "cells": [
  {
   "cell_type": "markdown",
   "metadata": {},
   "source": [
    "# Uploading data to InfluxDB"
   ]
  },
  {
   "cell_type": "markdown",
   "metadata": {},
   "source": [
    "## Requirements\n",
    "\n",
    "1. [InfluxDB installed](https://www.influxdata.com/downloads/).\n",
    "2. Export InfluxDB API Key as `INFLUXDB_TOKEN` environment variable.\n",
    "3. Download preprocessed CSV data using `../scripts/fetch_data.py`."
   ]
  },
  {
   "cell_type": "markdown",
   "metadata": {},
   "source": [
    "## Processing"
   ]
  },
  {
   "cell_type": "code",
   "execution_count": 1,
   "metadata": {},
   "outputs": [],
   "source": [
    "import pandas as pd\n",
    "import os\n",
    "import influxdb_client\n",
    "from influxdb_client.client.write_api import SYNCHRONOUS\n",
    "import csv"
   ]
  },
  {
   "cell_type": "markdown",
   "metadata": {},
   "source": [
    "### Setting up the InfluxDB connection"
   ]
  },
  {
   "cell_type": "code",
   "execution_count": 2,
   "metadata": {},
   "outputs": [],
   "source": [
    "DATA_PREROCESSED_DIR = \"../data_csv\"\n",
    "DATA_PREPROCESSED_FILE = DATA_PREROCESSED_DIR + \"/hk_temp.csv\"\n",
    "\n",
    "bucket = \"radem\"\n",
    "org = \"radem\"\n",
    "token = os.environ.get(\"INFLUXDB_TOKEN\")\n",
    "url=\"http://localhost:8086\"\n",
    "\n",
    "client = influxdb_client.InfluxDBClient(\n",
    "    url=url,\n",
    "    token=token,\n",
    "    org=org\n",
    ")\n",
    "\n",
    "write_api = client.write_api(write_options=SYNCHRONOUS)"
   ]
  },
  {
   "cell_type": "markdown",
   "metadata": {},
   "source": [
    "### Reading preprocessed CSV data"
   ]
  },
  {
   "cell_type": "code",
   "execution_count": 26,
   "metadata": {},
   "outputs": [
    {
     "data": {
      "text/html": [
       "<div>\n",
       "<style scoped>\n",
       "    .dataframe tbody tr th:only-of-type {\n",
       "        vertical-align: middle;\n",
       "    }\n",
       "\n",
       "    .dataframe tbody tr th {\n",
       "        vertical-align: top;\n",
       "    }\n",
       "\n",
       "    .dataframe thead th {\n",
       "        text-align: right;\n",
       "    }\n",
       "</style>\n",
       "<table border=\"1\" class=\"dataframe\">\n",
       "  <thead>\n",
       "    <tr style=\"text-align: right;\">\n",
       "      <th></th>\n",
       "      <th>time</th>\n",
       "      <th>CEU Temperature (1)</th>\n",
       "      <th>P&amp;IDH Temperature (2)</th>\n",
       "      <th>EDH Temperature (3)</th>\n",
       "      <th>DDH Temperature (4)</th>\n",
       "      <th>PCU Temperature (5)</th>\n",
       "      <th>time_ns</th>\n",
       "    </tr>\n",
       "  </thead>\n",
       "  <tbody>\n",
       "    <tr>\n",
       "      <th>0</th>\n",
       "      <td>2023-09-01 00:00:03</td>\n",
       "      <td>-20</td>\n",
       "      <td>-19</td>\n",
       "      <td>-18</td>\n",
       "      <td>-20</td>\n",
       "      <td>-19</td>\n",
       "      <td>1693526403000000000</td>\n",
       "    </tr>\n",
       "    <tr>\n",
       "      <th>1</th>\n",
       "      <td>2023-09-01 00:01:03</td>\n",
       "      <td>-20</td>\n",
       "      <td>-19</td>\n",
       "      <td>-18</td>\n",
       "      <td>-20</td>\n",
       "      <td>-19</td>\n",
       "      <td>1693526463000000000</td>\n",
       "    </tr>\n",
       "    <tr>\n",
       "      <th>2</th>\n",
       "      <td>2023-09-01 00:02:03</td>\n",
       "      <td>-20</td>\n",
       "      <td>-19</td>\n",
       "      <td>-18</td>\n",
       "      <td>-20</td>\n",
       "      <td>-19</td>\n",
       "      <td>1693526523000000000</td>\n",
       "    </tr>\n",
       "    <tr>\n",
       "      <th>3</th>\n",
       "      <td>2023-09-01 00:03:03</td>\n",
       "      <td>-20</td>\n",
       "      <td>-18</td>\n",
       "      <td>-18</td>\n",
       "      <td>-20</td>\n",
       "      <td>-19</td>\n",
       "      <td>1693526583000000000</td>\n",
       "    </tr>\n",
       "    <tr>\n",
       "      <th>4</th>\n",
       "      <td>2023-09-01 00:04:03</td>\n",
       "      <td>-20</td>\n",
       "      <td>-19</td>\n",
       "      <td>-18</td>\n",
       "      <td>-20</td>\n",
       "      <td>-19</td>\n",
       "      <td>1693526643000000000</td>\n",
       "    </tr>\n",
       "    <tr>\n",
       "      <th>...</th>\n",
       "      <td>...</td>\n",
       "      <td>...</td>\n",
       "      <td>...</td>\n",
       "      <td>...</td>\n",
       "      <td>...</td>\n",
       "      <td>...</td>\n",
       "      <td>...</td>\n",
       "    </tr>\n",
       "    <tr>\n",
       "      <th>327428</th>\n",
       "      <td>2024-04-17 08:31:42</td>\n",
       "      <td>-13</td>\n",
       "      <td>-11</td>\n",
       "      <td>-11</td>\n",
       "      <td>-13</td>\n",
       "      <td>-12</td>\n",
       "      <td>1713342702000000000</td>\n",
       "    </tr>\n",
       "    <tr>\n",
       "      <th>327429</th>\n",
       "      <td>2024-04-17 08:32:42</td>\n",
       "      <td>-13</td>\n",
       "      <td>-11</td>\n",
       "      <td>-11</td>\n",
       "      <td>-13</td>\n",
       "      <td>-12</td>\n",
       "      <td>1713342762000000000</td>\n",
       "    </tr>\n",
       "    <tr>\n",
       "      <th>327430</th>\n",
       "      <td>2024-04-17 08:33:42</td>\n",
       "      <td>-13</td>\n",
       "      <td>-11</td>\n",
       "      <td>-11</td>\n",
       "      <td>-13</td>\n",
       "      <td>-12</td>\n",
       "      <td>1713342822000000000</td>\n",
       "    </tr>\n",
       "    <tr>\n",
       "      <th>327431</th>\n",
       "      <td>2024-04-17 08:34:42</td>\n",
       "      <td>-13</td>\n",
       "      <td>-11</td>\n",
       "      <td>-11</td>\n",
       "      <td>-13</td>\n",
       "      <td>-12</td>\n",
       "      <td>1713342882000000000</td>\n",
       "    </tr>\n",
       "    <tr>\n",
       "      <th>327432</th>\n",
       "      <td>2024-04-17 08:35:42</td>\n",
       "      <td>-13</td>\n",
       "      <td>-11</td>\n",
       "      <td>-11</td>\n",
       "      <td>-13</td>\n",
       "      <td>-12</td>\n",
       "      <td>1713342942000000000</td>\n",
       "    </tr>\n",
       "  </tbody>\n",
       "</table>\n",
       "<p>327433 rows × 7 columns</p>\n",
       "</div>"
      ],
      "text/plain": [
       "                       time  CEU Temperature (1)  P&IDH Temperature (2)  \\\n",
       "0       2023-09-01 00:00:03                  -20                    -19   \n",
       "1       2023-09-01 00:01:03                  -20                    -19   \n",
       "2       2023-09-01 00:02:03                  -20                    -19   \n",
       "3       2023-09-01 00:03:03                  -20                    -18   \n",
       "4       2023-09-01 00:04:03                  -20                    -19   \n",
       "...                     ...                  ...                    ...   \n",
       "327428  2024-04-17 08:31:42                  -13                    -11   \n",
       "327429  2024-04-17 08:32:42                  -13                    -11   \n",
       "327430  2024-04-17 08:33:42                  -13                    -11   \n",
       "327431  2024-04-17 08:34:42                  -13                    -11   \n",
       "327432  2024-04-17 08:35:42                  -13                    -11   \n",
       "\n",
       "        EDH Temperature (3)  DDH Temperature (4)  PCU Temperature (5)  \\\n",
       "0                       -18                  -20                  -19   \n",
       "1                       -18                  -20                  -19   \n",
       "2                       -18                  -20                  -19   \n",
       "3                       -18                  -20                  -19   \n",
       "4                       -18                  -20                  -19   \n",
       "...                     ...                  ...                  ...   \n",
       "327428                  -11                  -13                  -12   \n",
       "327429                  -11                  -13                  -12   \n",
       "327430                  -11                  -13                  -12   \n",
       "327431                  -11                  -13                  -12   \n",
       "327432                  -11                  -13                  -12   \n",
       "\n",
       "                    time_ns  \n",
       "0       1693526403000000000  \n",
       "1       1693526463000000000  \n",
       "2       1693526523000000000  \n",
       "3       1693526583000000000  \n",
       "4       1693526643000000000  \n",
       "...                     ...  \n",
       "327428  1713342702000000000  \n",
       "327429  1713342762000000000  \n",
       "327430  1713342822000000000  \n",
       "327431  1713342882000000000  \n",
       "327432  1713342942000000000  \n",
       "\n",
       "[327433 rows x 7 columns]"
      ]
     },
     "execution_count": 26,
     "metadata": {},
     "output_type": "execute_result"
    }
   ],
   "source": [
    "df = pd.read_csv(DATA_PREPROCESSED_FILE)\n",
    "\n",
    "# time,CEU Temperature (1),P&IDH Temperature (2),EDH Temperature (3),DDH Temperature (4),PCU Temperature (5)\n",
    "\n",
    "# Convert time to ns for InfluxDB\n",
    "df['time_ns'] = pd.to_datetime(df['time'], format=\"%Y-%m-%d %H:%M:%S\").astype('int64')\n",
    "df[\"CEU Temperature (1)\"] = df[\"CEU Temperature (1)\"].astype(\"int64\")\n",
    "df[\"P&IDH Temperature (2)\"] = df[\"P&IDH Temperature (2)\"].astype(\"int64\")\n",
    "df[\"EDH Temperature (3)\"] = df[\"EDH Temperature (3)\"].astype(\"int64\")\n",
    "df[\"DDH Temperature (4)\"] = df[\"DDH Temperature (4)\"].astype(\"int64\")\n",
    "df[\"PCU Temperature (5)\"] = df[\"PCU Temperature (5)\"].astype(\"int64\")\n",
    "\n",
    "\n",
    "df"
   ]
  },
  {
   "cell_type": "markdown",
   "metadata": {},
   "source": [
    "### Converting to InfluxDB Line Protocol"
   ]
  },
  {
   "cell_type": "code",
   "execution_count": 45,
   "metadata": {},
   "outputs": [
    {
     "name": "stdout",
     "output_type": "stream",
     "text": [
      "BATCH_SIZE = 1000000\n",
      "INPUT_SIZE = 327433\n",
      "Processing batch of 327433 records, from 0 to 327432.\n",
      "Processed 327433 records in 0.19677 seconds\n",
      "SUCCESS\n"
     ]
    }
   ],
   "source": [
    "batch_size = 1000000\n",
    "\n",
    "print(f\"BATCH_SIZE = {batch_size}\")\n",
    "print(f\"INPUT_SIZE = {len(df)}\")\n",
    "\n",
    "time_start = pd.Timestamp.now()\n",
    "count = 0\n",
    "for batch in range(0, len(df), batch_size):    \n",
    "    batch_end = min(batch+batch_size-1, len(df)-1)\n",
    "    batch_indices = slice(batch, batch_end)\n",
    "\n",
    "    print(f\"Processing batch of {batch_indices.stop - batch_indices.start + 1} records, from {batch_indices.start} to {batch_indices.stop}.\")\n",
    "\n",
    "    # Convert time to datetime and then to timestamp in nanoseconds\n",
    "    df.loc[batch_indices, 'timestamp'] = pd.to_datetime(df.loc[batch_indices, 'time']).astype('int64')\n",
    "\n",
    "    # Use vectorized operations to construct the line\n",
    "    # df.loc[batch_indices, 'line'] = (\n",
    "    #     \"temp1_ceu \" +\n",
    "    #     \"value=\" + df.loc[batch_indices, 'CEU Temperature (1)'].astype(str) + \"i \" +\n",
    "    #     df.loc[batch_indices, 'time_ns'].astype(str)\n",
    "    # )\n",
    "    # df.loc[batch_indices, 'line'] = (\n",
    "    #     \"temp2_pidh \" +\n",
    "    #     \"value=\" + df.loc[batch_indices, 'P&IDH Temperature (2)'].astype(str) + \"i \" +\n",
    "    #     df.loc[batch_indices, 'time_ns'].astype(str)\n",
    "    # )\n",
    "    # df.loc[batch_indices, 'line'] = (\n",
    "    #     \"temp3_edh \" +\n",
    "    #     \"value=\" + df.loc[batch_indices, 'EDH Temperature (3)'].astype(str) + \"i \" +\n",
    "    #     df.loc[batch_indices, 'time_ns'].astype(str)\n",
    "    # )\n",
    "    # df.loc[batch_indices, 'line'] = (\n",
    "    #     \"temp4_ddh \" +\n",
    "    #     \"value=\" + df.loc[batch_indices, 'DDH Temperature (4)'].astype(str) + \"i \" +\n",
    "    #     df.loc[batch_indices, 'time_ns'].astype(str)\n",
    "    # )\n",
    "    df.loc[batch_indices, 'line'] = (\n",
    "        \"temp5_pcu \" +\n",
    "        \"value=\" + df.loc[batch_indices, 'PCU Temperature (5)'].astype(str) + \"i \" +\n",
    "        df.loc[batch_indices, 'time_ns'].astype(str)\n",
    "    )\n",
    "\n",
    "    count += len(df.loc[batch_indices, 'line'])\n",
    "\n",
    "time_total = pd.Timestamp.now() - time_start\n",
    "print(f\"Processed {count} records in {time_total.total_seconds()} seconds\")\n",
    "print(f\"SUCCESS\")"
   ]
  },
  {
   "cell_type": "markdown",
   "metadata": {},
   "source": [
    "### Save data to InfluxDB Line Protocol file\n",
    "\n",
    "Example line: `my_measurement,event_type=e,channel=0 value=123 1556813561098000000`\n"
   ]
  },
  {
   "cell_type": "code",
   "execution_count": 46,
   "metadata": {},
   "outputs": [],
   "source": [
    "df['line'].to_csv(DATA_PREROCESSED_DIR + \"/influx_line_protocol_temp.line\", index=False, header=False, quoting=csv.QUOTE_NONE, sep='\\n')"
   ]
  },
  {
   "cell_type": "markdown",
   "metadata": {},
   "source": [
    "### Read data from InfluxDB Line Protocol file"
   ]
  },
  {
   "cell_type": "code",
   "execution_count": 47,
   "metadata": {},
   "outputs": [],
   "source": [
    "df_lines = pd.read_csv(DATA_PREROCESSED_DIR + \"/influx_line_protocol_temp.line\", header=None, sep='\\0', names=['line'])"
   ]
  },
  {
   "cell_type": "code",
   "execution_count": 48,
   "metadata": {},
   "outputs": [
    {
     "data": {
      "text/html": [
       "<div>\n",
       "<style scoped>\n",
       "    .dataframe tbody tr th:only-of-type {\n",
       "        vertical-align: middle;\n",
       "    }\n",
       "\n",
       "    .dataframe tbody tr th {\n",
       "        vertical-align: top;\n",
       "    }\n",
       "\n",
       "    .dataframe thead th {\n",
       "        text-align: right;\n",
       "    }\n",
       "</style>\n",
       "<table border=\"1\" class=\"dataframe\">\n",
       "  <thead>\n",
       "    <tr style=\"text-align: right;\">\n",
       "      <th></th>\n",
       "      <th>line</th>\n",
       "    </tr>\n",
       "  </thead>\n",
       "  <tbody>\n",
       "    <tr>\n",
       "      <th>0</th>\n",
       "      <td>temp5_pcu value=-19i 1693526403000000000</td>\n",
       "    </tr>\n",
       "    <tr>\n",
       "      <th>1</th>\n",
       "      <td>temp5_pcu value=-19i 1693526463000000000</td>\n",
       "    </tr>\n",
       "    <tr>\n",
       "      <th>2</th>\n",
       "      <td>temp5_pcu value=-19i 1693526523000000000</td>\n",
       "    </tr>\n",
       "    <tr>\n",
       "      <th>3</th>\n",
       "      <td>temp5_pcu value=-19i 1693526583000000000</td>\n",
       "    </tr>\n",
       "    <tr>\n",
       "      <th>4</th>\n",
       "      <td>temp5_pcu value=-19i 1693526643000000000</td>\n",
       "    </tr>\n",
       "    <tr>\n",
       "      <th>...</th>\n",
       "      <td>...</td>\n",
       "    </tr>\n",
       "    <tr>\n",
       "      <th>327428</th>\n",
       "      <td>temp5_pcu value=-12i 1713342702000000000</td>\n",
       "    </tr>\n",
       "    <tr>\n",
       "      <th>327429</th>\n",
       "      <td>temp5_pcu value=-12i 1713342762000000000</td>\n",
       "    </tr>\n",
       "    <tr>\n",
       "      <th>327430</th>\n",
       "      <td>temp5_pcu value=-12i 1713342822000000000</td>\n",
       "    </tr>\n",
       "    <tr>\n",
       "      <th>327431</th>\n",
       "      <td>temp5_pcu value=-12i 1713342882000000000</td>\n",
       "    </tr>\n",
       "    <tr>\n",
       "      <th>327432</th>\n",
       "      <td>temp5_pcu value=-12i 1713342942000000000</td>\n",
       "    </tr>\n",
       "  </tbody>\n",
       "</table>\n",
       "<p>327433 rows × 1 columns</p>\n",
       "</div>"
      ],
      "text/plain": [
       "                                            line\n",
       "0       temp5_pcu value=-19i 1693526403000000000\n",
       "1       temp5_pcu value=-19i 1693526463000000000\n",
       "2       temp5_pcu value=-19i 1693526523000000000\n",
       "3       temp5_pcu value=-19i 1693526583000000000\n",
       "4       temp5_pcu value=-19i 1693526643000000000\n",
       "...                                          ...\n",
       "327428  temp5_pcu value=-12i 1713342702000000000\n",
       "327429  temp5_pcu value=-12i 1713342762000000000\n",
       "327430  temp5_pcu value=-12i 1713342822000000000\n",
       "327431  temp5_pcu value=-12i 1713342882000000000\n",
       "327432  temp5_pcu value=-12i 1713342942000000000\n",
       "\n",
       "[327433 rows x 1 columns]"
      ]
     },
     "execution_count": 48,
     "metadata": {},
     "output_type": "execute_result"
    }
   ],
   "source": [
    "df_lines"
   ]
  },
  {
   "cell_type": "markdown",
   "metadata": {},
   "source": [
    "### Upload data to InfluxDB"
   ]
  },
  {
   "cell_type": "code",
   "execution_count": 49,
   "metadata": {},
   "outputs": [
    {
     "name": "stdout",
     "output_type": "stream",
     "text": [
      "Uploading batch of 327433 records, from 0 to 327432.\n"
     ]
    }
   ],
   "source": [
    "batch_size = 1000000\n",
    "for batch in range(0, len(df_lines), batch_size):\n",
    "    batch_end = min(batch+batch_size-1, len(df_lines)-1)\n",
    "    batch_indices = slice(batch, batch_end)\n",
    "\n",
    "    print(f\"Uploading batch of {batch_indices.stop - batch_indices.start + 1} records, from {batch_indices.start} to {batch_indices.stop}.\")\n",
    "\n",
    "    write_api.write(bucket, org, df_lines.loc[batch_indices, 'line'])\n",
    "\n",
    "write_api.flush()"
   ]
  },
  {
   "cell_type": "code",
   "execution_count": 19,
   "metadata": {},
   "outputs": [],
   "source": [
    "with open(\"../data_processed/influx_line_protocol_v2.line\") as f:\n",
    "    lines = f.readlines()\n"
   ]
  }
 ],
 "metadata": {
  "kernelspec": {
   "display_name": "Python 3",
   "language": "python",
   "name": "python3"
  },
  "language_info": {
   "codemirror_mode": {
    "name": "ipython",
    "version": 3
   },
   "file_extension": ".py",
   "mimetype": "text/x-python",
   "name": "python",
   "nbconvert_exporter": "python",
   "pygments_lexer": "ipython3",
   "version": "3.10.12"
  }
 },
 "nbformat": 4,
 "nbformat_minor": 2
}
