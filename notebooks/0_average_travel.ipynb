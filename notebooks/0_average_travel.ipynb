{
 "cells": [
  {
   "cell_type": "markdown",
   "metadata": {},
   "source": [
    "## Description\n",
    "\n",
    "This notebook details the analytical and monte carlo methods of computing the average length of travel of a particle in a silicone detector."
   ]
  },
  {
   "cell_type": "markdown",
   "metadata": {},
   "source": [
    "## Dependencies"
   ]
  },
  {
   "cell_type": "code",
   "execution_count": 35,
   "metadata": {},
   "outputs": [],
   "source": [
    "import numpy as np\n",
    "import matplotlib.pyplot as plt\n",
    "\n",
    "from typing import Tuple"
   ]
  },
  {
   "cell_type": "markdown",
   "metadata": {},
   "source": [
    "## Generating points and direction vectors for the monte carlo method"
   ]
  },
  {
   "cell_type": "code",
   "execution_count": 38,
   "metadata": {},
   "outputs": [],
   "source": [
    "def uniform_points_on_circle(num_points, radius, center = (0, 0)):\n",
    "    \"\"\"Generates a list of coordinates of points on a circle\"\"\"\n",
    "    theta = np.random.uniform(0, 2 * np.pi, num_points)\n",
    "    r = radius * np.sqrt(np.random.uniform(0, 1, num_points))\n",
    "    \n",
    "    x_0, y_0 = center\n",
    "\n",
    "    x = r * np.cos(theta) + x_0\n",
    "    y = r * np.sin(theta) + y_0\n",
    "    z = np.zeros(num_points)    \n",
    "    return list(zip(x, y, z))"
   ]
  },
  {
   "cell_type": "code",
   "execution_count": 39,
   "metadata": {},
   "outputs": [],
   "source": [
    "def uniform_normal_vector():\n",
    "    \"\"\"Generates a uniform normal vector pointing down\"\"\"\n",
    "    \n",
    "    # Generate three independent random numbers from a normal distribution (Gaussian distribution)\n",
    "    v = np.random.normal(0, 1, 3)\n",
    "    v /= np.linalg.norm(v)\n",
    "    v[2] = -v[2] if v[2] > 0 else v[2]\n",
    "    \n",
    "    return v"
   ]
  },
  {
   "cell_type": "markdown",
   "metadata": {},
   "source": [
    "## Computing intersections"
   ]
  },
  {
   "cell_type": "code",
   "execution_count": 94,
   "metadata": {},
   "outputs": [],
   "source": [
    "def cylinder_intersections(line_origin, line_direction, cylinder_origin, cylinder_radius, cylinder_depth):\n",
    "    x_0, y_0, z_0 = line_origin\n",
    "    d_x, d_y, d_z = line_direction\n",
    "    x_c, y_c, z_c = cylinder_origin\n",
    "    r = cylinder_radius\n",
    "\n",
    "    a = d_x * d_x + d_y * d_y\n",
    "    b = 2 * ((x_0 - x_c) * d_x + (y_0 - y_c) * d_y)\n",
    "    c = (x_0 - x_c)**2 + (y_0 - y_c)**2 - r * r\n",
    "\n",
    "    delta = b * b - 4 * a * c\n",
    "    \n",
    "    # One intersection\n",
    "    if delta < 0:\n",
    "        ts = []\n",
    "    elif delta <= 10e-8:\n",
    "        ts = [(-b + delta ) / (2 * a)]\n",
    "    else:\n",
    "        ts = [\n",
    "            ( -b + delta ) / (2 * a),\n",
    "            ( -b - delta ) / (2 * a),\n",
    "        ]\n",
    "\n",
    "    \n",
    "    intersections = [(x_0 + t * d_x, y_0 + t * d_y, z_0 + t * d_z) for t in ts]\n",
    "    intersections = [inter for inter in intersections if inter[2] > z_c - cylinder_depth and inter[2] < z_c]\n",
    "\n",
    "    return intersections\n",
    "    "
   ]
  },
  {
   "cell_type": "code",
   "execution_count": 95,
   "metadata": {},
   "outputs": [],
   "source": [
    "def circle_intersections(line_origin, line_direction, circle_origin, circle_radius):\n",
    "    x_0, y_0, z_0 = line_origin\n",
    "    d_x, d_y, d_z = line_direction\n",
    "    x_c, y_c, z_c = circle_origin\n",
    "    r = circle_radius\n",
    "\n",
    "    t = (z_c - z_0) / d_z\n",
    "    x_p = x_0 + t * d_x\n",
    "    y_p = y_0 + t * d_y\n",
    "    z_p = z_c\n",
    "\n",
    "    if (x_p - x_c)**2 + (y_p - y_c)**2 <= r:\n",
    "        return [(x_p, y_p, z_p)]\n",
    "    else:\n",
    "        return []"
   ]
  },
  {
   "cell_type": "markdown",
   "metadata": {},
   "source": [
    "## Monte Carlo method for computing average particle travel distance"
   ]
  },
  {
   "cell_type": "code",
   "execution_count": 96,
   "metadata": {},
   "outputs": [
    {
     "name": "stdout",
     "output_type": "stream",
     "text": [
      "Average distance is: 0.15951619717505566mm with a 0.5317206572501856 ratio\n"
     ]
    }
   ],
   "source": [
    "surface_samples = 1_000\n",
    "direction_samples = 1_000\n",
    "\n",
    "\n",
    "# \"Detector stack contains eight Si diodes, first one of the 3 mm, others of 6 mm diameter\" ~ Patryk Socha Phd. Page 29\n",
    "diode_radius = 6  # [mm]\n",
    "diode_depth = 0.3 # [mm]\n",
    "diode_top_origin = (0, 0, 0) # [mm]\n",
    "diode_bottom_origin = (0, 0, -diode_depth) # [mm]\n",
    "\n",
    "max_distance = np.sqrt(diode_depth**2 + 4 * diode_radius**2)\n",
    "\n",
    "origins = uniform_points_on_circle(surface_samples, diode_radius)\n",
    "distance_sum = 0.0\n",
    "\n",
    "for origin in origins:\n",
    "    direction_vectors = [uniform_normal_vector() for _ in range(direction_samples)]\n",
    "    for direction in direction_vectors:\n",
    "        wall_intersections = cylinder_intersections(origin, direction, diode_top_origin, diode_radius, diode_depth)\n",
    "        bottom_intersections =  circle_intersections(origin, direction, diode_bottom_origin, diode_radius)\n",
    "        intersections = wall_intersections + bottom_intersections\n",
    "        \n",
    "        if len(intersections) > 0:\n",
    "            intersection_distance_sum = 0.0\n",
    "            intersections_count = 0\n",
    "            o_x, o_y, o_z = origin\n",
    "            for i in intersections:\n",
    "                i_x, i_y, i_z = i\n",
    "                distance = (i_x-o_x)**2 + (i_y-o_y)**2 + (i_z-o_z)**2\n",
    "                if distance < max_distance:\n",
    "                    intersection_distance_sum += distance\n",
    "            distance_sum += intersection_distance_sum / len(intersections)\n",
    "\n",
    "average_distance = distance_sum / (surface_samples * direction_samples)\n",
    "print(f\"Average distance is: {average_distance}mm with a {average_distance / diode_depth} ratio\")\n",
    "\n",
    "        "
   ]
  }
 ],
 "metadata": {
  "kernelspec": {
   "display_name": ".venv",
   "language": "python",
   "name": "python3"
  },
  "language_info": {
   "codemirror_mode": {
    "name": "ipython",
    "version": 3
   },
   "file_extension": ".py",
   "mimetype": "text/x-python",
   "name": "python",
   "nbconvert_exporter": "python",
   "pygments_lexer": "ipython3",
   "version": "3.12.6"
  }
 },
 "nbformat": 4,
 "nbformat_minor": 2
}
