{
 "cells": [
  {
   "cell_type": "markdown",
   "metadata": {},
   "source": [
    "# Particles"
   ]
  },
  {
   "cell_type": "code",
   "execution_count": 1,
   "metadata": {},
   "outputs": [
    {
     "name": "stderr",
     "output_type": "stream",
     "text": [
      "/usr/lib/python3/dist-packages/scipy/__init__.py:146: UserWarning: A NumPy version >=1.17.3 and <1.25.0 is required for this version of SciPy (detected version 1.26.2\n",
      "  warnings.warn(f\"A NumPy version >={np_minversion} and <{np_maxversion}\"\n"
     ]
    }
   ],
   "source": [
    "import numpy as np\n",
    "import pandas as pd\n",
    "import math\n",
    "import matplotlib.pyplot as plt\n",
    "from scipy import interpolate\n",
    "import seaborn as sns"
   ]
  },
  {
   "cell_type": "markdown",
   "metadata": {},
   "source": [
    "## Constants"
   ]
  },
  {
   "cell_type": "code",
   "execution_count": 2,
   "metadata": {},
   "outputs": [],
   "source": [
    "PROTON_REST_MASS =  938.27 # MeV/c^2\n",
    "ELEMENTARY_CHARGE = 1.6021766208e-19 # C"
   ]
  },
  {
   "cell_type": "markdown",
   "metadata": {},
   "source": [
    "## Utils"
   ]
  },
  {
   "cell_type": "code",
   "execution_count": 54,
   "metadata": {},
   "outputs": [],
   "source": [
    "def linear_interpolation(x_points, y_points, x_point):\n",
    "    \"\"\"\n",
    "    Perform linear interpolation for a given x value based on lists of x and y points.\n",
    "\n",
    "    :param x_points: List of x-coordinates.\n",
    "    :param y_points: List of y-coordinates corresponding to x-coordinates.\n",
    "    :param x_point: The x value for which to interpolate the y value.\n",
    "    :return: Interpolated y value for the given x_point.\n",
    "    \"\"\"\n",
    "    # Check if the lists are of the same length\n",
    "    if len(x_points) != len(y_points):\n",
    "        raise ValueError(\"The lists x_points and y_points must have the same length.\")\n",
    "\n",
    "    # Find the interval x_point is in\n",
    "    for i in range(len(x_points) - 1):\n",
    "        if x_points[i] <= x_point <= x_points[i + 1]:\n",
    "            # Perform linear interpolation\n",
    "            return y_points[i] + (y_points[i + 1] - y_points[i]) * (x_point - x_points[i]) / (x_points[i + 1] - x_points[i])\n",
    "\n",
    "    # If x_point is outside the range of x_points\n",
    "    raise ValueError(\"x_point is outside the range of x_points.\")"
   ]
  },
  {
   "cell_type": "markdown",
   "metadata": {},
   "source": [
    "## Energy loss"
   ]
  },
  {
   "cell_type": "markdown",
   "metadata": {},
   "source": [
    "### Energy unit conversion"
   ]
  },
  {
   "cell_type": "code",
   "execution_count": 3,
   "metadata": {},
   "outputs": [],
   "source": [
    "def calc_energy_to_beta(energy, rest_mass):\n",
    "    return np.sqrt(1 - (rest_mass / (rest_mass + energy))**2)\n",
    "\n",
    "# Scrapped from the web calculator\n",
    "def calc_energy_to_beta2(E):\n",
    "    m_amu = 1.660539040e-27\n",
    "    c_light = 299792458\n",
    "    e = 1.6021766208e-19\n",
    "    m_amu_MeV = m_amu*c_light*c_light/e/1e6\n",
    "    gamma = (E + m_amu_MeV) / m_amu_MeV\n",
    "    beta = math.pow(1 - 1 / (gamma * gamma), 0.5)\n",
    "    return beta"
   ]
  },
  {
   "cell_type": "markdown",
   "metadata": {},
   "source": [
    "### Calculation of mean ionization potential in eV"
   ]
  },
  {
   "cell_type": "code",
   "execution_count": 4,
   "metadata": {},
   "outputs": [],
   "source": [
    "def calc_mean_ionization_potential_ev(Z):\n",
    "    \"\"\"\n",
    "    Calculate the mean ionization potential of a material using the Ziegler formula.\n",
    "\n",
    "    Args:\n",
    "        Z (float): Atomic number of the material.\n",
    "\n",
    "    Returns:\n",
    "        float: Mean ionization potential of the material (in eV).\n",
    "    \"\"\"\n",
    "    if Z <= 0:\n",
    "        raise ValueError(\"Atomic number must be greater than zero.\")\n",
    "\n",
    "    I = 9.76 * Z+58.8 * Z ** (-0.19)    \n",
    "\n",
    "    return I"
   ]
  },
  {
   "cell_type": "markdown",
   "metadata": {},
   "source": [
    "#### Example"
   ]
  },
  {
   "cell_type": "code",
   "execution_count": 55,
   "metadata": {},
   "outputs": [
    {
     "data": {
      "text/plain": [
       "172.25336405711283"
      ]
     },
     "execution_count": 55,
     "metadata": {},
     "output_type": "execute_result"
    }
   ],
   "source": [
    "calc_mean_ionization_potential_ev(14)"
   ]
  },
  {
   "cell_type": "markdown",
   "metadata": {},
   "source": [
    "### [Web calculator](https://web-docs.gsi.de/~lestinsk/beamcalc/bb.php)"
   ]
  },
  {
   "cell_type": "markdown",
   "metadata": {},
   "source": [
    "### Scrapped Bethe-Bloch energy loss calculation\n"
   ]
  },
  {
   "cell_type": "code",
   "execution_count": 6,
   "metadata": {},
   "outputs": [],
   "source": [
    "def js_bethe_bloch(beta, Zp, Zt, Mt, rho):\n",
    "    # Constants\n",
    "    c_light = 299792458             # [m/s]\n",
    "    epsilon_0 = 8.854187817e-12;\t# Coulomb / (V * m)\n",
    "    me = 9.10938356e-31             # electron mass [kg]\n",
    "    e = 1.6021766208e-19;\t\t    # Elementary charge [Coulomb]\n",
    "    m_amu = 1.660539040e-27;\t\t# AMU [kg]\n",
    "    m_amu_MeV = m_amu*c_light*c_light/e/1e6\n",
    "    Na = 6.022140857e23     \t\t# Avogadro constant\n",
    "\n",
    "    # Rescale g/cm^-3 to cm^-3\n",
    "    rho *= Na / Mt * 1e6\n",
    "\n",
    "    beta2 = beta**2\n",
    "    c2 = c_light**2\n",
    "    n = Zt * rho\n",
    "    I = 0\n",
    "    if Zt < 13:\n",
    "        I = 12 * Zt + 7\n",
    "    else:\n",
    "        I = 9.76 * Zt + 58.8 * math.exp(-0.19 * math.log(Zt))\n",
    "    I *= e\n",
    "    minusdEdx = 4 * math.pi * n * Zp * Zp / (me * c2 * beta2)\n",
    "    minusdEdx *= math.pow(e * e / (4 * math.pi * epsilon_0), 2)\n",
    "    minusdEdx *= (math.log(2 * me * c2 * beta2 / (I * (1 - beta2))) - beta2)\n",
    "    minusdEdx *= 1 / e / 1000 / 1e6\n",
    "    return minusdEdx"
   ]
  },
  {
   "cell_type": "markdown",
   "metadata": {},
   "source": [
    "#### Example"
   ]
  },
  {
   "cell_type": "code",
   "execution_count": 7,
   "metadata": {},
   "outputs": [
    {
     "data": {
      "text/plain": [
       "104.69515069243712"
      ]
     },
     "execution_count": 7,
     "metadata": {},
     "output_type": "execute_result"
    }
   ],
   "source": [
    "E = 1\n",
    "Zp = 1\n",
    "Zt = 73\n",
    "Mt = 180.94\n",
    "rho = 16.65\n",
    "\n",
    "beta = calc_energy_to_beta(E, PROTON_REST_MASS)\n",
    "\n",
    "js_bethe_bloch(beta, Zp, Zt, Mt, rho)"
   ]
  },
  {
   "cell_type": "markdown",
   "metadata": {},
   "source": [
    "### Scrapped stopping range calculation"
   ]
  },
  {
   "cell_type": "code",
   "execution_count": 8,
   "metadata": {},
   "outputs": [],
   "source": [
    "def js_stopping_range(Ep, Mp, Zp, Mt, Zt, rho):\n",
    "    # Constants\n",
    "    c_light = 299792458;\t\t    # metres / sec\n",
    "    e = 1.6021766208e-19;\t\t    # Elementary charge [Coulomb]\n",
    "    m_amu = 1.660539040e-27;\t\t# AMU [kg]\n",
    "    m_amu_MeV = m_amu*c_light*c_light/e/1e6\n",
    "    Na = 6.022140857e23     \t\t# Avogadro constant\n",
    "\n",
    "    # Plot stuff\n",
    "    plot_x = []\n",
    "    plot_E = []\n",
    "    plot_dEdx = []\n",
    "\n",
    "    # Rescale g/cm^-3 to cm^-3\n",
    "    rho_scaled = rho * Na / Mt * 1e6\n",
    "\n",
    "    dx = 1e6 * 1e22 * Ep / rho_scaled / 1000 / Zt / Zp / Zp * Mp\n",
    "    x = 0\n",
    "    Eloss = 0\n",
    "    lEloss = 0\n",
    "    dElossdx = 0\n",
    "    ldElossdx = 0\n",
    "    sr = 0\n",
    "    Ei = Ep\n",
    "    while Ei > 0:\n",
    "        gamma = (Ei + m_amu_MeV) / m_amu_MeV\n",
    "        beta = math.pow(1 - 1 / (gamma * gamma), 0.5)\n",
    "        Eloss = js_bethe_bloch(beta, Zp, Zt, Mt, rho) / Mp * dx\n",
    "        if Eloss < 0:\n",
    "            break\n",
    "        \n",
    "        Ei -= Eloss\n",
    "        x += dx\n",
    "        dElossdx = (Eloss - lEloss) / dx\n",
    "\n",
    "        plot_dEdx.append(Eloss / dx)\n",
    "        plot_E.append(Ei)\n",
    "        plot_x.append(x)\n",
    "\n",
    "        if sr == 0 and Ei <= 0.3 * Ep and dElossdx >= ldElossdx and dElossdx < 0:\n",
    "            sr = x\n",
    "        lEloss = Eloss\n",
    "        ldElossdx = dElossdx\n",
    "    if sr > 0:\n",
    "        return sr, plot_x, plot_E, plot_dEdx\n",
    "    else:\n",
    "        return x, plot_x, plot_E, plot_dEdx\n",
    "\n",
    "def plot_stopping_range(x, y, dEdx=None):\n",
    "    plt.figure(figsize=(7, 5))\n",
    "    plt.plot(x, y)\n",
    "    if dEdx is not None:\n",
    "        plt.plot(x, dEdx)\n",
    "\n",
    "    plt.title(\"Stopping Range\")\n",
    "    plt.xlabel(\"Depth [mm]\")\n",
    "    plt.ylabel(\"Energy [MeV]\")\n",
    "    plt.grid(True)\n",
    "    plt.show()"
   ]
  },
  {
   "cell_type": "markdown",
   "metadata": {},
   "source": [
    "#### Example"
   ]
  },
  {
   "cell_type": "code",
   "execution_count": 49,
   "metadata": {},
   "outputs": [
    {
     "data": {
      "image/png": "[encoded data removed]",
      "text/plain": [
       "<Figure size 700x500 with 1 Axes>"
      ]
     },
     "metadata": {},
     "output_type": "display_data"
    },
    {
     "data": {
      "image/png": "[encoded data removed]",
      "text/plain": [
       "<Figure size 700x500 with 1 Axes>"
      ]
     },
     "metadata": {},
     "output_type": "display_data"
    },
    {
     "data": {
      "text/plain": [
       "19.598318636969484"
      ]
     },
     "execution_count": 49,
     "metadata": {},
     "output_type": "execute_result"
    }
   ],
   "source": [
    "Ep = 21\n",
    "Mp = 1\n",
    "Zp = 1\n",
    "\n",
    "Mt = 28.0855\n",
    "Zt = 14\n",
    "rho = 2.33\n",
    "\n",
    "beta = calc_energy_to_beta2(Ep)\n",
    "bb = js_bethe_bloch(beta, Zp, Zt, Mt, rho)\n",
    "\n",
    "sr, x, y, yy = js_stopping_range(Ep, Mp, Zp, Mt, Zt, rho)\n",
    "\n",
    "plot_stopping_range(x, y, yy)\n",
    "plot_stopping_range(x, y)\n",
    "y[999]"
   ]
  },
  {
   "cell_type": "markdown",
   "metadata": {},
   "source": [
    "## Zasięg protonów w modelu detektora"
   ]
  },
  {
   "cell_type": "code",
   "execution_count": 10,
   "metadata": {},
   "outputs": [],
   "source": [
    "MATERIALS = {\n",
    "    # Element: (Atomic mass, Atomic number, Density in g/cm^3)\n",
    "    \"Si\": (28.0855, 14, 2.33),\n",
    "    \"Ta\": (180.94788, 73, 16.65),\n",
    "    \"Al\": (26.9815385, 13, 2.7),\n",
    "    \"Cu\": (63.546, 29, 8.96),\n",
    "    **{f\"D{i}\":(28.0855, 14, 2.33) for i in range(1, 9)}\n",
    "}"
   ]
  },
  {
   "cell_type": "markdown",
   "metadata": {},
   "source": [
    "### Energia po pokonaniu warstwy materiału"
   ]
  },
  {
   "cell_type": "code",
   "execution_count": 57,
   "metadata": {},
   "outputs": [],
   "source": [
    "def energy_after_material(energy, material, thickness):\n",
    "    atomic_mass, atomic_number, density = MATERIALS[material]\n",
    "    _, data_x, data_e, data_dEdx = js_stopping_range(energy, 1, 1, atomic_mass, atomic_number, density)\n",
    "    return linear_interpolation(data_x, data_e, thickness)"
   ]
  },
  {
   "cell_type": "markdown",
   "metadata": {},
   "source": [
    "#### Example"
   ]
  },
  {
   "cell_type": "code",
   "execution_count": 63,
   "metadata": {},
   "outputs": [
    {
     "data": {
      "text/plain": [
       "85.66966130279145"
      ]
     },
     "execution_count": 63,
     "metadata": {},
     "output_type": "execute_result"
    }
   ],
   "source": [
    "energy_after_material(100, \"Si\", 10)"
   ]
  },
  {
   "cell_type": "markdown",
   "metadata": {},
   "source": [
    "### [Webatima calculator](https://www.isotopea.com/webatima/#!/)\n",
    "\n",
    "<img src=\"../docs/proton_100mev_1cm_si.png\" width=\"700\">"
   ]
  },
  {
   "cell_type": "markdown",
   "metadata": {},
   "source": [
    "### Plots"
   ]
  },
  {
   "cell_type": "code",
   "execution_count": 58,
   "metadata": {},
   "outputs": [],
   "source": [
    "def plot_proton_stopping_range2(energy, atomic_mass, atomic_numer, density):\n",
    "    sr, x, y, yy = js_stopping_range(energy, 1, 1, atomic_mass, atomic_numer, density)\n",
    "    plot_stopping_range(x, y, yy)\n",
    "    plot_stopping_range(x, y)\n",
    "    return sr"
   ]
  },
  {
   "cell_type": "code",
   "execution_count": 38,
   "metadata": {},
   "outputs": [
    {
     "data": {
      "image/png": "[encoded data removed]",
      "text/plain": [
       "<Figure size 700x500 with 1 Axes>"
      ]
     },
     "metadata": {},
     "output_type": "display_data"
    },
    {
     "data": {
      "image/png": "[encoded data removed]",
      "text/plain": [
       "<Figure size 700x500 with 1 Axes>"
      ]
     },
     "metadata": {},
     "output_type": "display_data"
    },
    {
     "data": {
      "text/plain": [
       "2.598865694212114"
      ]
     },
     "execution_count": 38,
     "metadata": {},
     "output_type": "execute_result"
    }
   ],
   "source": [
    "plot_proton_stopping_range2(21, *MATERIALS[\"Si\"])"
   ]
  },
  {
   "cell_type": "code",
   "execution_count": 12,
   "metadata": {},
   "outputs": [
    {
     "data": {
      "image/png": "[encoded data removed]",
      "text/plain": [
       "<Figure size 700x500 with 1 Axes>"
      ]
     },
     "metadata": {},
     "output_type": "display_data"
    },
    {
     "data": {
      "image/png": "[encoded data removed]",
      "text/plain": [
       "<Figure size 700x500 with 1 Axes>"
      ]
     },
     "metadata": {},
     "output_type": "display_data"
    },
    {
     "data": {
      "text/plain": [
       "0.01582686561203228"
      ]
     },
     "execution_count": 12,
     "metadata": {},
     "output_type": "execute_result"
    }
   ],
   "source": [
    "plot_proton_stopping_range2(1, *MATERIALS[\"Si\"])"
   ]
  },
  {
   "cell_type": "code",
   "execution_count": 13,
   "metadata": {},
   "outputs": [
    {
     "data": {
      "image/png": "[encoded data removed]",
      "text/plain": [
       "<Figure size 700x500 with 1 Axes>"
      ]
     },
     "metadata": {},
     "output_type": "display_data"
    },
    {
     "data": {
      "image/png": "[encoded data removed]",
      "text/plain": [
       "<Figure size 700x500 with 1 Axes>"
      ]
     },
     "metadata": {},
     "output_type": "display_data"
    },
    {
     "data": {
      "text/plain": [
       "9.35738122673617"
      ]
     },
     "execution_count": 13,
     "metadata": {},
     "output_type": "execute_result"
    }
   ],
   "source": [
    "plot_proton_stopping_range2(100, *MATERIALS[\"Ta\"])"
   ]
  },
  {
   "cell_type": "markdown",
   "metadata": {},
   "source": [
    "## PSD Simulation"
   ]
  },
  {
   "cell_type": "code",
   "execution_count": 14,
   "metadata": {},
   "outputs": [],
   "source": [
    "PSD_LAYERS = (\n",
    "    # (Material, Thickness in mm)\n",
    "    (\"Al\", 0.2),\n",
    "\n",
    "    (\"D1\", 0.3),\n",
    "    (\"D2\", 0.3),\n",
    "    (\"Al\", 0.4),\n",
    "    (\"D3\", 0.3),\n",
    "    (\"Al\", 1.2),\n",
    "    (\"D4\", 0.3),\n",
    "    (\"Al\", 3.3),\n",
    "\n",
    "    (\"D5\", 0.3),\n",
    "    (\"Ta\", 2.0),\n",
    "    (\"D6\", 0.3),\n",
    "    (\"Ta\", 4.8),\n",
    "    (\"D7\", 0.3),\n",
    "    (\"Ta\", 10.8),\n",
    "    (\"D8\", 0.3),\n",
    ")"
   ]
  },
  {
   "cell_type": "markdown",
   "metadata": {},
   "source": [
    "<img src=\"../docs/ranges.jpg\" width=80>"
   ]
  },
  {
   "cell_type": "code",
   "execution_count": 16,
   "metadata": {},
   "outputs": [],
   "source": [
    "PSD_RANGES = {\n",
    "    \"D1\": (5, 8.2),\n",
    "    \"D2\": (8.2, 13),\n",
    "    \"D3\": (13, 22),\n",
    "    \"D4\": (22, 35),\n",
    "    \"D5\": (35, 58),\n",
    "    \"D6\": (58, 94),\n",
    "    \"D7\": (94, 153),\n",
    "    \"D8\": (153, 250),\n",
    "}\n",
    "\n",
    "def simulate(init_energy, verbose=True):\n",
    "    energy = init_energy\n",
    "    last_detector = \"00\"\n",
    "    for material, thickness in PSD_LAYERS:\n",
    "        if verbose: print(\"\\nPENETRATING LAYER OF\", material, \"WITH THICKNESS\", thickness, \"mm\")\n",
    "        if verbose: print(\"Energy before:\", energy, \"MeV\")\n",
    "\n",
    "        atomic_mass, atomic_number, density = MATERIALS[material]\n",
    "\n",
    "        stopping_range, data_x, data_e, data_dEdx = js_stopping_range(energy, 1, 1, atomic_mass, atomic_number, density)\n",
    "\n",
    "        if material.startswith(\"D\"):\n",
    "            last_detector = material\n",
    "\n",
    "        if not data_x:\n",
    "            if verbose: print(f\"Electron cannot penetrate {material} layer. Stopping range: {stopping_range} mm, Thickness: {thickness} mm\")\n",
    "            break\n",
    "\n",
    "        if thickness > data_x[-1]:\n",
    "            if verbose: print(f\"Electron cannot penetrate {material} layer. Stopping range: {stopping_range} mm, Thickness: {thickness} mm\")\n",
    "            break\n",
    "\n",
    "        if linear_interpolation(data_x, data_dEdx, thickness) < 1e-10:\n",
    "            if verbose: print(f\"Electron cannot lose enough energy in {material} layer.\")\n",
    "            break\n",
    "\n",
    "        new_energy = linear_interpolation(data_x, data_e, thickness)\n",
    "        energy = new_energy\n",
    "\n",
    "        if verbose: print(\"Energy after:\", energy, \"MeV\")\n",
    "        if verbose: print(\"Stopping range:\", stopping_range, \"mm\")\n",
    "    else:\n",
    "        if verbose: print(\"Electron penetrated the detector.\")\n",
    "        last_detector = \"PENETRATED9\"\n",
    "    return last_detector"
   ]
  },
  {
   "cell_type": "markdown",
   "metadata": {},
   "source": [
    "### Example + Comparison"
   ]
  },
  {
   "cell_type": "code",
   "execution_count": 70,
   "metadata": {},
   "outputs": [
    {
     "name": "stdout",
     "output_type": "stream",
     "text": [
      "\n",
      "PENETRATING LAYER OF Al WITH THICKNESS 0.2 mm\n",
      "Energy before: 100 MeV\n",
      "Energy after: 99.69337405271705 MeV\n",
      "Stopping range: 37.03788905468226 mm\n",
      "\n",
      "PENETRATING LAYER OF D1 WITH THICKNESS 0.3 mm\n",
      "Energy before: 99.69337405271705 MeV\n",
      "Energy after: 99.28487203264217 MeV\n",
      "Stopping range: 41.613758595234636 mm\n",
      "\n",
      "PENETRATING LAYER OF D2 WITH THICKNESS 0.3 mm\n",
      "Energy before: 99.28487203264217 MeV\n",
      "Energy after: 98.87513843556631 MeV\n",
      "Stopping range: 41.31406969865625 mm\n",
      "\n",
      "PENETRATING LAYER OF Al WITH THICKNESS 0.4 mm\n",
      "Energy before: 98.87513843556631 MeV\n",
      "Energy after: 98.25606498116542 MeV\n",
      "Stopping range: 36.30573760761303 mm\n",
      "\n",
      "PENETRATING LAYER OF D3 WITH THICKNESS 0.3 mm\n",
      "Energy before: 98.25606498116542 MeV\n",
      "Energy after: 97.843187095865 MeV\n",
      "Stopping range: 40.56146320427028 mm\n",
      "\n",
      "PENETRATING LAYER OF Al WITH THICKNESS 1.2 mm\n",
      "Energy before: 97.843187095865 MeV\n",
      "Energy after: 95.9626501749149 MeV\n",
      "Stopping range: 35.63956305957628 mm\n",
      "\n",
      "PENETRATING LAYER OF D4 WITH THICKNESS 0.3 mm\n",
      "Energy before: 95.9626501749149 MeV\n",
      "Energy after: 95.5425355677778 MeV\n",
      "Stopping range: 38.906765310924285 mm\n",
      "\n",
      "PENETRATING LAYER OF Al WITH THICKNESS 3.3 mm\n",
      "Energy before: 95.5425355677778 MeV\n",
      "Energy after: 90.2067086124048 MeV\n",
      "Stopping range: 34.1746893336475 mm\n",
      "\n",
      "PENETRATING LAYER OF D5 WITH THICKNESS 0.3 mm\n",
      "Energy before: 90.2067086124048 MeV\n",
      "Energy after: 89.76691622995952 MeV\n",
      "Stopping range: 34.88101986154128 mm\n",
      "\n",
      "PENETRATING LAYER OF Ta WITH THICKNESS 2.0 mm\n",
      "Energy before: 89.76691622995952 MeV\n",
      "Energy after: 75.539444637656 MeV\n",
      "Stopping range: 7.771376320946507 mm\n",
      "\n",
      "PENETRATING LAYER OF D6 WITH THICKNESS 0.3 mm\n",
      "Energy before: 75.539444637656 MeV\n",
      "Energy after: 75.03693572526461 MeV\n",
      "Stopping range: 25.47380315150643 mm\n",
      "\n",
      "PENETRATING LAYER OF Ta WITH THICKNESS 4.8 mm\n",
      "Energy before: 75.03693572526461 MeV\n",
      "Energy after: 25.725627072386064 MeV\n",
      "Stopping range: 5.70500873569619 mm\n",
      "\n",
      "PENETRATING LAYER OF D7 WITH THICKNESS 0.3 mm\n",
      "Energy before: 25.725627072386064 MeV\n",
      "Energy after: 24.543295109394922 MeV\n",
      "Stopping range: 3.7302408153827433 mm\n",
      "\n",
      "PENETRATING LAYER OF Ta WITH THICKNESS 10.8 mm\n",
      "Energy before: 24.543295109394922 MeV\n",
      "Electron cannot penetrate Ta layer. Stopping range: 0.8351087329400694 mm, Thickness: 10.8 mm\n"
     ]
    },
    {
     "data": {
      "text/plain": [
       "'D7'"
      ]
     },
     "execution_count": 70,
     "metadata": {},
     "output_type": "execute_result"
    }
   ],
   "source": [
    "simulate(100, verbose=True)"
   ]
  },
  {
   "cell_type": "markdown",
   "metadata": {},
   "source": [
    "#### Symulacja\n",
    "\n",
    "| Material  | E before | E after | Stopping range |\n",
    "|-----------|---------|-------|------|\n",
    "| Al 0.2 mm | 100 MeV | 99.69337405271705 MeV | 37.03788905468226 mm |\n",
    "| D1 0.3 mm | 99.69337405271705 MeV | 99.28487203264217 MeV | 41.613758595234636 mm |\n",
    "| D2 0.3 mm | 99.28487203264217 MeV | 98.87513843556631 MeV | 41.31406969865625 mm |\n",
    "| 0.4 mm | 98.87513843556631 MeV | 98.25606498116542 MeV | 36.30573760761303 mm |\n",
    "| D3 0.3 mm | 98.25606498116542 MeV | 97.843187095865 MeV | 40.56146320427028 mm |\n",
    "| 1.2 mm | 97.843187095865 MeV | 95.9626501749149 MeV | 35.63956305957628 mm |\n",
    "| D4 0.3 mm | 95.9626501749149 MeV | 95.5425355677778 MeV | 38.906765310924285 mm |\n",
    "| 3.3 mm | 95.5425355677778 MeV | 90.2067086124048 MeV | 34.1746893336475 mm |\n",
    "| D5 0.3 mm | 90.2067086124048 MeV | 89.76691622995952 MeV | 34.88101986154128 mm |\n",
    "| Ta 2.0 mm | 89.76691622995952 MeV | 75.539444637656 MeV | 7.771376320946507 mm |\n",
    "| D6 0.3 mm | 75.539444637656 MeV | 75.03693572526461 MeV | 25.47380315150643 mm |\n",
    "| Ta 4.8 mm | 75.03693572526461 MeV | 25.725627072386064 MeV | 5.70500873569619 mm |\n",
    "| D7 0.3 mm | 25.725627072386064 MeV | 24.543295109394922 MeV | 3.7302408153827433 mm |\n",
    "| Ta 10.8 mm | 24.543295109394922 MeV | 0.0 | 0.8351087329400694 mm |\n",
    "\n",
    "#### Porównanie\n",
    "\n",
    "<img src=\"../docs/verification_1.png\" height=700>\n",
    "\n",
    "<img src=\"../docs/verification_2.png\" height=700>\n"
   ]
  },
  {
   "cell_type": "markdown",
   "metadata": {},
   "source": [
    "## Simulated bins ranges"
   ]
  },
  {
   "cell_type": "code",
   "execution_count": 72,
   "metadata": {},
   "outputs": [],
   "source": [
    "def ranges_bin_ary_search(da, db, fn, eps=0.1):\n",
    "    left, right = 1, 160\n",
    "    center = (left + right) / 2\n",
    "    fn_center = fn(center)\n",
    "\n",
    "    while not (fn_center == da and fn(center + eps) == db):\n",
    "        if fn_center > da:\n",
    "            right = center\n",
    "        elif fn_center <= da:\n",
    "            left = center\n",
    "        \n",
    "        center = (left + right) / 2\n",
    "        fn_center = fn(center)\n",
    "    \n",
    "    return center, center + eps\n",
    "\n",
    "def find_range(d, fn, eps=0.1):\n",
    "    a, _ = ranges_bin_ary_search(d - 1, d, fn, eps)\n",
    "    _, d = ranges_bin_ary_search(d, d + 1, fn, eps)\n",
    "    return a + eps, d - eps\n",
    "\n",
    "\n",
    "# fn = lambda e: int(simulate(e, verbose=False)[-1])\n",
    "# for d in range(1, 8):\n",
    "#     print(f\"D{8} =\", find_range(8, fn))\n"
   ]
  },
  {
   "cell_type": "code",
   "execution_count": 18,
   "metadata": {},
   "outputs": [],
   "source": [
    "# Ranges of the simulated detector\n",
    "PSD_SIMULATED_RANGES = {\n",
    "    \"D1\": (5.137109375, 8.37548828125),\n",
    "    \"D2\": (8.47548828125, 14.04296875),\n",
    "    \"D3\": (14.14296875, 22.427734375),\n",
    "    \"D4\": (22.527734375, 36.47998046875),\n",
    "    \"D5\": (36.57998046875, 57.3642578125),\n",
    "    \"D6\": (57.4642578125, 94.0087890625),\n",
    "    \"D7\": (94.1087890625, 152.546875),\n",
    "    \"D8\": (152.646875, 153.09033203125),\n",
    "}"
   ]
  },
  {
   "cell_type": "code",
   "execution_count": 73,
   "metadata": {},
   "outputs": [
    {
     "name": "stdout",
     "output_type": "stream",
     "text": [
      "0.31259765625000036\n",
      "1.3184570312500004\n",
      "1.5707031249999996\n",
      "2.0077148437500014\n",
      "2.2157226562500014\n",
      "0.5445312499999986\n",
      "0.5619140624999943\n",
      "97.26279296875\n",
      "105.79443359375\n"
     ]
    }
   ],
   "source": [
    "error = 0\n",
    "for real, sim in zip(PSD_RANGES.values(), PSD_SIMULATED_RANGES.values()):\n",
    "    error0 = abs(real[0] - sim[0]) + abs(real[1] - sim[1])\n",
    "    print(error0)\n",
    "    error += error0\n",
    "print(error)"
   ]
  },
  {
   "cell_type": "markdown",
   "metadata": {},
   "source": [
    "## Detector output charge"
   ]
  },
  {
   "cell_type": "markdown",
   "metadata": {},
   "source": [
    "<img src=\"../docs/asic.jpg\" width=800>"
   ]
  },
  {
   "cell_type": "code",
   "execution_count": 20,
   "metadata": {},
   "outputs": [],
   "source": [
    "def simulate_with_enery_losses(init_energy, verbose=True):\n",
    "    layers = {detector:0 for detector in PSD_RANGES.keys()}\n",
    "    \n",
    "    energy = init_energy\n",
    "\n",
    "    for material, thickness in PSD_LAYERS:\n",
    "        if verbose: print(\"\\nPENETRATING LAYER OF\", material, \"WITH THICKNESS\", thickness, \"mm\")\n",
    "\n",
    "        atomic_mass, atomic_number, density = MATERIALS[material]\n",
    "\n",
    "        stopping_range, data_x, data_e, data_dEdx = js_stopping_range(energy, 1, 1, atomic_mass, atomic_number, density)\n",
    "\n",
    "        if not data_x:\n",
    "            if material.startswith(\"D\"):\n",
    "                layers[material] =  energy\n",
    "            if verbose: print(f\"Electron cannot penetrate {material} layer. Stopping range: {stopping_range} mm, Thickness: {thickness} mm\")\n",
    "            break\n",
    "\n",
    "        if thickness > data_x[-1]:\n",
    "            if material.startswith(\"D\"):\n",
    "                layers[material] =  energy\n",
    "            if verbose: print(f\"Electron cannot penetrate {material} layer. Stopping range: {stopping_range} mm, Thickness: {thickness} mm\")\n",
    "            break\n",
    "\n",
    "        if linear_interpolation(data_x, data_dEdx, thickness) < 1e-10:\n",
    "            if verbose: print(f\"Electron cannot lose enough energy in {material} layer.\")\n",
    "            break\n",
    "\n",
    "        new_energy = linear_interpolation(data_x, data_e, thickness)\n",
    "        energy_diff = energy - new_energy\n",
    "        energy = new_energy\n",
    "\n",
    "        if material.startswith(\"D\"):\n",
    "            layers[material] = energy_diff\n",
    "\n",
    "        if verbose: print(\"Energy after:\", energy, \"MeV\")\n",
    "        if verbose: print(\"Energy diff:\", energy_diff, \"MeV\")\n",
    "    else:\n",
    "        if verbose: print(\"Electron penetrated the detector.\")\n",
    "\n",
    "    return layers\n"
   ]
  },
  {
   "cell_type": "code",
   "execution_count": 66,
   "metadata": {},
   "outputs": [
    {
     "data": {
      "text/plain": [
       "{'D1': 1.4625492273486067,\n",
       " 'D2': 1.5605785389071407,\n",
       " 'D3': 1.9504460137590343,\n",
       " 'D4': 0,\n",
       " 'D5': 0,\n",
       " 'D6': 0,\n",
       " 'D7': 0,\n",
       " 'D8': 0}"
      ]
     },
     "execution_count": 66,
     "metadata": {},
     "output_type": "execute_result"
    }
   ],
   "source": [
    "layers = simulate_with_enery_losses(21, verbose=False)\n",
    "layers"
   ]
  },
  {
   "cell_type": "markdown",
   "metadata": {},
   "source": [
    "The number of generated pairs is proportional to the\n",
    "energy deposited by the incident particle and equals approximately the\n",
    "energy deposition divided by average ionization energy which for silicon\n",
    "equals 3.62 eV [65] [66]."
   ]
  },
  {
   "cell_type": "code",
   "execution_count": 22,
   "metadata": {},
   "outputs": [],
   "source": [
    "ELECTRON_HOLE_PAIR_ENERGY_EV = 3.62 # eV\n",
    "ELECTRON_HOLE_PAIR_ENERGY_MEV = ELECTRON_HOLE_PAIR_ENERGY_EV / 1e6 # MeV"
   ]
  },
  {
   "cell_type": "code",
   "execution_count": 23,
   "metadata": {},
   "outputs": [],
   "source": [
    "def diode_energy_to_charge(E):\n",
    "    Q = E / ELECTRON_HOLE_PAIR_ENERGY_MEV * ELEMENTARY_CHARGE\n",
    "    return Q"
   ]
  },
  {
   "cell_type": "code",
   "execution_count": 24,
   "metadata": {},
   "outputs": [
    {
     "data": {
      "text/plain": [
       "{'D1': 1.8079900168882337e-14,\n",
       " 'D2': 1.8134408563293493e-14,\n",
       " 'D3': 1.827357168711805e-14,\n",
       " 'D4': 1.8593861922973184e-14,\n",
       " 'D5': 1.9464781026512533e-14,\n",
       " 'D6': 2.2240553347434335e-14,\n",
       " 'D7': 5.232885715825909e-14,\n",
       " 'D8': 0.0}"
      ]
     },
     "execution_count": 24,
     "metadata": {},
     "output_type": "execute_result"
    }
   ],
   "source": [
    "layer_charges = {m:diode_energy_to_charge(e) for m,e in layers.items()}\n",
    "layer_charges"
   ]
  },
  {
   "cell_type": "markdown",
   "metadata": {},
   "source": [
    "## Coincidence logic"
   ]
  },
  {
   "cell_type": "markdown",
   "metadata": {},
   "source": [
    "<img src=\"../docs/dac_psd.jpg\" width=500>\n",
    "<img src=\"../docs/logic_psd.png\" width=500>"
   ]
  },
  {
   "cell_type": "code",
   "execution_count": 25,
   "metadata": {},
   "outputs": [],
   "source": [
    "PSD_THRESHOLDS = {\n",
    "    # channel,  LT [MeV], HT [MeV]\n",
    "    \"D1\": (0.90972, 2.02692),\n",
    "    \"D2\": (0.60648, 0.98724),\n",
    "    \"D3\": (0.40356, 0.98724),\n",
    "    \"D4\": (0.30324, 0.98724),\n",
    "    \"D5\": (0.30324, 0.70680),\n",
    "    \"D6\": (0.30324, 0.70680),\n",
    "    \"D7\": (0.30324, 0.50616),\n",
    "    \"D8\": (0.30324, 0.50616),\n",
    "}"
   ]
  },
  {
   "cell_type": "code",
   "execution_count": 26,
   "metadata": {},
   "outputs": [],
   "source": [
    "PSD_LOGIC = {\n",
    "    1: {\n",
    "        \"D1\": (None, True),\n",
    "        \"D2\": (False, None),\n",
    "        \"D3\": (None, None),\n",
    "        \"D4\": (None, None),\n",
    "        \"D5\": (None, None),\n",
    "        \"D6\": (None, None),\n",
    "        \"D7\": (None, None),\n",
    "        \"D8\": (None, None),\n",
    "    },\n",
    "    2: {\n",
    "        \"D1\": (True, None),\n",
    "        \"D2\": (None, True),\n",
    "        \"D3\": (False, None),\n",
    "        \"D4\": (None, None),\n",
    "        \"D5\": (None, None),\n",
    "        \"D6\": (None, None),\n",
    "        \"D7\": (None, None),\n",
    "        \"D8\": (None, None),\n",
    "    },\n",
    "    3: {\n",
    "        \"D1\": (True,None),\n",
    "        \"D2\": (None,True),\n",
    "        \"D3\": (None,True),\n",
    "        \"D4\": (False,None),\n",
    "        \"D5\": (None,None),\n",
    "        \"D6\": (None,None),\n",
    "        \"D7\": (None,None),\n",
    "        \"D8\": (None,None),\n",
    "    },\n",
    "    4: {\n",
    "        \"D1\": (True,None),\n",
    "        \"D2\": (None,True),\n",
    "        \"D3\": (None,True),\n",
    "        \"D4\": (None,True),\n",
    "        \"D5\": (False,None),\n",
    "        \"D6\": (None,None),\n",
    "        \"D7\": (None,None),\n",
    "        \"D8\": (None,None),\n",
    "    },\n",
    "    5: {\n",
    "        \"D1\": (None,None),\n",
    "        \"D2\": (True,None),\n",
    "        \"D3\": (True,None),\n",
    "        \"D4\": (True,None),\n",
    "        \"D5\": (True,None),\n",
    "        \"D6\": (False,None),\n",
    "        \"D7\": (None,None),\n",
    "        \"D8\": (None,None),\n",
    "    },\n",
    "    6: {\n",
    "        \"D1\": (None,None),\n",
    "        \"D2\": (None,None),\n",
    "        \"D3\": (True,None),\n",
    "        \"D4\": (True,None),\n",
    "        \"D5\": (True,None),\n",
    "        \"D6\": (True,None),\n",
    "        \"D7\": (False,None),\n",
    "        \"D8\": (None,None),\n",
    "    },\n",
    "    7: {\n",
    "        \"D1\": (None,None),\n",
    "        \"D2\": (None,None),\n",
    "        \"D3\": (True,None),\n",
    "        \"D4\": (True,None),\n",
    "        \"D5\": (True,None),\n",
    "        \"D6\": (True,None),\n",
    "        \"D7\": (True,None),\n",
    "        \"D8\": (False,None),\n",
    "    },\n",
    "    8: {\n",
    "        \"D1\": (None,None),\n",
    "        \"D2\": (None,None),\n",
    "        \"D3\": (True,None),\n",
    "        \"D4\": (True,None),\n",
    "        \"D5\": (True,None),\n",
    "        \"D6\": (True,None),\n",
    "        \"D7\": (True,None),\n",
    "        \"D8\": (True,None),\n",
    "    },\n",
    "}"
   ]
  },
  {
   "cell_type": "code",
   "execution_count": 27,
   "metadata": {},
   "outputs": [],
   "source": [
    "def apply_coincidence_logic(values, thresholds, logic):\n",
    "    bins = {}\n",
    "\n",
    "    for bin_ in logic.keys():\n",
    "        is_in_bin = True\n",
    "        \n",
    "        for detector in logic[bin_].keys():\n",
    "            lt = values[detector] > thresholds[detector][0]\n",
    "            ht = values[detector] < thresholds[detector][1]\n",
    "\n",
    "            if logic[bin_][detector][0] is not None:\n",
    "                is_in_bin &= (lt if logic[bin_][detector][0] else not lt)\n",
    "            \n",
    "            if logic[bin_][detector][1] is not None:\n",
    "                is_in_bin &= (ht if logic[bin_][detector][1] else not ht)\n",
    "            \n",
    "            if not is_in_bin:\n",
    "                break\n",
    "\n",
    "        if is_in_bin:\n",
    "            bins[bin_] = 1\n",
    "    \n",
    "    return bins\n"
   ]
  },
  {
   "cell_type": "markdown",
   "metadata": {},
   "source": [
    "### First try"
   ]
  },
  {
   "cell_type": "code",
   "execution_count": 39,
   "metadata": {},
   "outputs": [
    {
     "data": {
      "text/plain": [
       "{'D1': 1.4625492273486067,\n",
       " 'D2': 1.5605785389071407,\n",
       " 'D3': 1.9504460137590343,\n",
       " 'D4': 0,\n",
       " 'D5': 0,\n",
       " 'D6': 0,\n",
       " 'D7': 0,\n",
       " 'D8': 0}"
      ]
     },
     "execution_count": 39,
     "metadata": {},
     "output_type": "execute_result"
    }
   ],
   "source": [
    "channels = simulate_with_enery_losses(21, verbose=False)\n",
    "channels"
   ]
  },
  {
   "cell_type": "code",
   "execution_count": 29,
   "metadata": {},
   "outputs": [
    {
     "data": {
      "text/plain": [
       "{1: 1}"
      ]
     },
     "execution_count": 29,
     "metadata": {},
     "output_type": "execute_result"
    }
   ],
   "source": [
    "bins = apply_coincidence_logic(channels, PSD_THRESHOLDS, PSD_LOGIC)\n",
    "bins"
   ]
  },
  {
   "cell_type": "code",
   "execution_count": 30,
   "metadata": {},
   "outputs": [
    {
     "name": "stdout",
     "output_type": "stream",
     "text": [
      "1\t{1: 1}\n",
      "5\t{1: 1}\n",
      "9\t{}\n",
      "13\t{}\n",
      "17\t{}\n",
      "21\t{}\n",
      "25\t{}\n",
      "29\t{}\n",
      "33\t{}\n",
      "37\t{5: 1}\n",
      "41\t{5: 1}\n",
      "45\t{5: 1}\n",
      "49\t{5: 1}\n",
      "53\t{5: 1}\n"
     ]
    },
    {
     "name": "stdout",
     "output_type": "stream",
     "text": [
      "57\t{5: 1}\n",
      "61\t{1: 1, 6: 1}\n",
      "65\t{1: 1, 6: 1}\n",
      "69\t{1: 1, 6: 1}\n",
      "73\t{1: 1, 6: 1}\n",
      "77\t{1: 1, 6: 1}\n",
      "81\t{1: 1, 6: 1}\n",
      "85\t{1: 1, 6: 1}\n",
      "89\t{1: 1, 6: 1}\n",
      "93\t{1: 1, 6: 1}\n",
      "97\t{1: 1, 7: 1}\n",
      "100\t{1: 1, 7: 1}\n",
      "120\t{1: 1}\n",
      "140\t{1: 1}\n",
      "150\t{1: 1}\n",
      "160\t{1: 1}\n",
      "200\t{1: 1}\n"
     ]
    }
   ],
   "source": [
    "for energy in list(range(1, 101, 4)) + [100, 120, 140, 150, 160, 200]:\n",
    "    channels = simulate_with_enery_losses(energy, verbose=False)\n",
    "    bins = apply_coincidence_logic(channels, PSD_THRESHOLDS, PSD_LOGIC)\n",
    "    print(energy, bins, sep=\"\\t\")"
   ]
  },
  {
   "cell_type": "markdown",
   "metadata": {},
   "source": [
    "<img src=\"../docs/dac_psd.jpg\" width=500>\n",
    "<img src=\"../docs/logic_psd.png\" width=500>"
   ]
  },
  {
   "cell_type": "code",
   "execution_count": 31,
   "metadata": {},
   "outputs": [
    {
     "data": {
      "text/plain": [
       "{'D1': (5, 8.2),\n",
       " 'D2': (8.2, 13),\n",
       " 'D3': (13, 22),\n",
       " 'D4': (22, 35),\n",
       " 'D5': (35, 58),\n",
       " 'D6': (58, 94),\n",
       " 'D7': (94, 153),\n",
       " 'D8': (153, 250)}"
      ]
     },
     "execution_count": 31,
     "metadata": {},
     "output_type": "execute_result"
    }
   ],
   "source": [
    "PSD_RANGES"
   ]
  },
  {
   "cell_type": "markdown",
   "metadata": {},
   "source": [
    "### Second try"
   ]
  },
  {
   "cell_type": "code",
   "execution_count": 32,
   "metadata": {},
   "outputs": [
    {
     "data": {
      "text/plain": [
       "({'D1': 2.0436459381096554,\n",
       "  'D2': 2.37815833611387,\n",
       "  'D3': 4.08633181602086,\n",
       "  'D4': 0,\n",
       "  'D5': 0,\n",
       "  'D6': 0,\n",
       "  'D7': 0,\n",
       "  'D8': 0},\n",
       " {})"
      ]
     },
     "execution_count": 32,
     "metadata": {},
     "output_type": "execute_result"
    }
   ],
   "source": [
    "PSD_THRESHOLDS2 = {k:(v[0] * 0.5, v[1] * 1.5) for k,v in PSD_THRESHOLDS.items()}\n",
    "\n",
    "fn = lambda x: x\n",
    "channels = simulate_with_enery_losses(15, verbose=False)\n",
    "channels = {m:fn(e) for m,e in channels.items()}\n",
    "bins = apply_coincidence_logic(channels, PSD_THRESHOLDS2, PSD_LOGIC)\n",
    "\n",
    "channels, bins"
   ]
  },
  {
   "cell_type": "code",
   "execution_count": 33,
   "metadata": {},
   "outputs": [
    {
     "name": "stdout",
     "output_type": "stream",
     "text": [
      "1\t{1: 1}\n",
      "5\t{1: 1}\n",
      "9\t{}\n",
      "13\t{}\n",
      "17\t{}\n",
      "21\t{}\n",
      "25\t{}\n"
     ]
    },
    {
     "name": "stdout",
     "output_type": "stream",
     "text": [
      "29\t{}\n",
      "33\t{}\n",
      "37\t{5: 1}\n",
      "41\t{5: 1}\n",
      "45\t{5: 1}\n",
      "49\t{5: 1}\n",
      "53\t{5: 1}\n",
      "57\t{5: 1}\n",
      "61\t{1: 1, 6: 1}\n"
     ]
    }
   ],
   "source": [
    "for energy in list(range(1, 65, 4)):\n",
    "    channels = simulate_with_enery_losses(energy, verbose=False)\n",
    "    channels = {m:fn(e) for m,e in channels.items()}\n",
    "    bins = apply_coincidence_logic(channels, PSD_THRESHOLDS, PSD_LOGIC)\n",
    "    print(energy, bins, sep=\"\\t\")"
   ]
  },
  {
   "cell_type": "markdown",
   "metadata": {},
   "source": [
    "## Matrix of output charges"
   ]
  },
  {
   "cell_type": "code",
   "execution_count": 34,
   "metadata": {},
   "outputs": [
    {
     "name": "stdout",
     "output_type": "stream",
     "text": [
      "0 5 10 15 20 25 30 35 40 45 50 55 60 65 70 75 80 85 90 95 100 105 110 115 120 125 130 135 140 145 150 155 160 165 170 175 180 185 190 195 "
     ]
    }
   ],
   "source": [
    "out = []\n",
    "for e in range(0, 200, 5):\n",
    "    channels = simulate_with_enery_losses(e, verbose=False)\n",
    "    charges = {m:diode_energy_to_charge(e) for m,e in channels.items()}\n",
    "    out.append([e, list(charges.values())])\n",
    "    print(e, end=\" \")"
   ]
  },
  {
   "cell_type": "code",
   "execution_count": 35,
   "metadata": {},
   "outputs": [
    {
     "data": {
      "text/html": [
       "<div>\n",
       "<style scoped>\n",
       "    .dataframe tbody tr th:only-of-type {\n",
       "        vertical-align: middle;\n",
       "    }\n",
       "\n",
       "    .dataframe tbody tr th {\n",
       "        vertical-align: top;\n",
       "    }\n",
       "\n",
       "    .dataframe thead th {\n",
       "        text-align: right;\n",
       "    }\n",
       "</style>\n",
       "<table border=\"1\" class=\"dataframe\">\n",
       "  <thead>\n",
       "    <tr style=\"text-align: right;\">\n",
       "      <th></th>\n",
       "      <th>0</th>\n",
       "      <th>5</th>\n",
       "      <th>10</th>\n",
       "      <th>15</th>\n",
       "      <th>20</th>\n",
       "      <th>25</th>\n",
       "      <th>30</th>\n",
       "      <th>35</th>\n",
       "      <th>40</th>\n",
       "      <th>45</th>\n",
       "      <th>...</th>\n",
       "      <th>150</th>\n",
       "      <th>155</th>\n",
       "      <th>160</th>\n",
       "      <th>165</th>\n",
       "      <th>170</th>\n",
       "      <th>175</th>\n",
       "      <th>180</th>\n",
       "      <th>185</th>\n",
       "      <th>190</th>\n",
       "      <th>195</th>\n",
       "    </tr>\n",
       "  </thead>\n",
       "  <tbody>\n",
       "    <tr>\n",
       "      <th>D1</th>\n",
       "      <td>0.0</td>\n",
       "      <td>0.0</td>\n",
       "      <td>1.564117e-13</td>\n",
       "      <td>9.044977e-14</td>\n",
       "      <td>6.775862e-14</td>\n",
       "      <td>5.525456e-14</td>\n",
       "      <td>4.712794e-14</td>\n",
       "      <td>4.135316e-14</td>\n",
       "      <td>3.700895e-14</td>\n",
       "      <td>3.360789e-14</td>\n",
       "      <td>...</td>\n",
       "      <td>1.355111e-14</td>\n",
       "      <td>1.325228e-14</td>\n",
       "      <td>1.297133e-14</td>\n",
       "      <td>1.270670e-14</td>\n",
       "      <td>1.245702e-14</td>\n",
       "      <td>1.222104e-14</td>\n",
       "      <td>1.199768e-14</td>\n",
       "      <td>1.178594e-14</td>\n",
       "      <td>1.158496e-14</td>\n",
       "      <td>1.139392e-14</td>\n",
       "    </tr>\n",
       "    <tr>\n",
       "      <th>D2</th>\n",
       "      <td>0.0</td>\n",
       "      <td>0.0</td>\n",
       "      <td>1.973376e-13</td>\n",
       "      <td>1.052550e-13</td>\n",
       "      <td>7.285538e-14</td>\n",
       "      <td>5.776045e-14</td>\n",
       "      <td>4.858398e-14</td>\n",
       "      <td>4.228828e-14</td>\n",
       "      <td>3.765156e-14</td>\n",
       "      <td>3.407173e-14</td>\n",
       "      <td>...</td>\n",
       "      <td>1.357001e-14</td>\n",
       "      <td>1.326964e-14</td>\n",
       "      <td>1.298732e-14</td>\n",
       "      <td>1.272147e-14</td>\n",
       "      <td>1.247069e-14</td>\n",
       "      <td>1.223372e-14</td>\n",
       "      <td>1.200947e-14</td>\n",
       "      <td>1.179693e-14</td>\n",
       "      <td>1.159522e-14</td>\n",
       "      <td>1.140352e-14</td>\n",
       "    </tr>\n",
       "    <tr>\n",
       "      <th>D3</th>\n",
       "      <td>0.0</td>\n",
       "      <td>0.0</td>\n",
       "      <td>0.000000e+00</td>\n",
       "      <td>1.808571e-13</td>\n",
       "      <td>9.465115e-14</td>\n",
       "      <td>6.616978e-14</td>\n",
       "      <td>5.300504e-14</td>\n",
       "      <td>4.497918e-14</td>\n",
       "      <td>3.944086e-14</td>\n",
       "      <td>3.533526e-14</td>\n",
       "      <td>...</td>\n",
       "      <td>1.361778e-14</td>\n",
       "      <td>1.331349e-14</td>\n",
       "      <td>1.302770e-14</td>\n",
       "      <td>1.275874e-14</td>\n",
       "      <td>1.250518e-14</td>\n",
       "      <td>1.226572e-14</td>\n",
       "      <td>1.203921e-14</td>\n",
       "      <td>1.182464e-14</td>\n",
       "      <td>1.162108e-14</td>\n",
       "      <td>1.142770e-14</td>\n",
       "    </tr>\n",
       "    <tr>\n",
       "      <th>D4</th>\n",
       "      <td>0.0</td>\n",
       "      <td>0.0</td>\n",
       "      <td>0.000000e+00</td>\n",
       "      <td>0.000000e+00</td>\n",
       "      <td>0.000000e+00</td>\n",
       "      <td>1.326195e-13</td>\n",
       "      <td>7.077092e-14</td>\n",
       "      <td>5.371221e-14</td>\n",
       "      <td>4.464964e-14</td>\n",
       "      <td>3.878026e-14</td>\n",
       "      <td>...</td>\n",
       "      <td>1.372525e-14</td>\n",
       "      <td>1.341203e-14</td>\n",
       "      <td>1.311831e-14</td>\n",
       "      <td>1.284230e-14</td>\n",
       "      <td>1.258243e-14</td>\n",
       "      <td>1.233731e-14</td>\n",
       "      <td>1.210572e-14</td>\n",
       "      <td>1.188655e-14</td>\n",
       "      <td>1.167882e-14</td>\n",
       "      <td>1.148167e-14</td>\n",
       "    </tr>\n",
       "    <tr>\n",
       "      <th>D5</th>\n",
       "      <td>0.0</td>\n",
       "      <td>0.0</td>\n",
       "      <td>0.000000e+00</td>\n",
       "      <td>0.000000e+00</td>\n",
       "      <td>0.000000e+00</td>\n",
       "      <td>0.000000e+00</td>\n",
       "      <td>0.000000e+00</td>\n",
       "      <td>0.000000e+00</td>\n",
       "      <td>8.931212e-14</td>\n",
       "      <td>5.655527e-14</td>\n",
       "      <td>...</td>\n",
       "      <td>1.400070e-14</td>\n",
       "      <td>1.366385e-14</td>\n",
       "      <td>1.334926e-14</td>\n",
       "      <td>1.305475e-14</td>\n",
       "      <td>1.277840e-14</td>\n",
       "      <td>1.251855e-14</td>\n",
       "      <td>1.227374e-14</td>\n",
       "      <td>1.204268e-14</td>\n",
       "      <td>1.182422e-14</td>\n",
       "      <td>1.161734e-14</td>\n",
       "    </tr>\n",
       "    <tr>\n",
       "      <th>D6</th>\n",
       "      <td>0.0</td>\n",
       "      <td>0.0</td>\n",
       "      <td>0.000000e+00</td>\n",
       "      <td>0.000000e+00</td>\n",
       "      <td>0.000000e+00</td>\n",
       "      <td>0.000000e+00</td>\n",
       "      <td>0.000000e+00</td>\n",
       "      <td>0.000000e+00</td>\n",
       "      <td>0.000000e+00</td>\n",
       "      <td>0.000000e+00</td>\n",
       "      <td>...</td>\n",
       "      <td>1.474910e-14</td>\n",
       "      <td>1.434327e-14</td>\n",
       "      <td>1.396849e-14</td>\n",
       "      <td>1.362117e-14</td>\n",
       "      <td>1.329825e-14</td>\n",
       "      <td>1.299714e-14</td>\n",
       "      <td>1.271560e-14</td>\n",
       "      <td>1.245172e-14</td>\n",
       "      <td>1.220382e-14</td>\n",
       "      <td>1.197044e-14</td>\n",
       "    </tr>\n",
       "    <tr>\n",
       "      <th>D7</th>\n",
       "      <td>0.0</td>\n",
       "      <td>0.0</td>\n",
       "      <td>0.000000e+00</td>\n",
       "      <td>0.000000e+00</td>\n",
       "      <td>0.000000e+00</td>\n",
       "      <td>0.000000e+00</td>\n",
       "      <td>0.000000e+00</td>\n",
       "      <td>0.000000e+00</td>\n",
       "      <td>0.000000e+00</td>\n",
       "      <td>0.000000e+00</td>\n",
       "      <td>...</td>\n",
       "      <td>1.733475e-14</td>\n",
       "      <td>1.662538e-14</td>\n",
       "      <td>1.599774e-14</td>\n",
       "      <td>1.543736e-14</td>\n",
       "      <td>1.493315e-14</td>\n",
       "      <td>1.447641e-14</td>\n",
       "      <td>1.406025e-14</td>\n",
       "      <td>1.367910e-14</td>\n",
       "      <td>1.332841e-14</td>\n",
       "      <td>1.300443e-14</td>\n",
       "    </tr>\n",
       "    <tr>\n",
       "      <th>D8</th>\n",
       "      <td>0.0</td>\n",
       "      <td>0.0</td>\n",
       "      <td>0.000000e+00</td>\n",
       "      <td>0.000000e+00</td>\n",
       "      <td>0.000000e+00</td>\n",
       "      <td>0.000000e+00</td>\n",
       "      <td>0.000000e+00</td>\n",
       "      <td>0.000000e+00</td>\n",
       "      <td>0.000000e+00</td>\n",
       "      <td>0.000000e+00</td>\n",
       "      <td>...</td>\n",
       "      <td>0.000000e+00</td>\n",
       "      <td>7.163658e-14</td>\n",
       "      <td>4.015763e-14</td>\n",
       "      <td>3.133019e-14</td>\n",
       "      <td>2.670091e-14</td>\n",
       "      <td>2.372801e-14</td>\n",
       "      <td>2.160888e-14</td>\n",
       "      <td>1.999832e-14</td>\n",
       "      <td>1.871990e-14</td>\n",
       "      <td>1.767270e-14</td>\n",
       "    </tr>\n",
       "  </tbody>\n",
       "</table>\n",
       "<p>8 rows × 40 columns</p>\n",
       "</div>"
      ],
      "text/plain": [
       "    0    5             10            15            20            25   \\\n",
       "D1  0.0  0.0  1.564117e-13  9.044977e-14  6.775862e-14  5.525456e-14   \n",
       "D2  0.0  0.0  1.973376e-13  1.052550e-13  7.285538e-14  5.776045e-14   \n",
       "D3  0.0  0.0  0.000000e+00  1.808571e-13  9.465115e-14  6.616978e-14   \n",
       "D4  0.0  0.0  0.000000e+00  0.000000e+00  0.000000e+00  1.326195e-13   \n",
       "D5  0.0  0.0  0.000000e+00  0.000000e+00  0.000000e+00  0.000000e+00   \n",
       "D6  0.0  0.0  0.000000e+00  0.000000e+00  0.000000e+00  0.000000e+00   \n",
       "D7  0.0  0.0  0.000000e+00  0.000000e+00  0.000000e+00  0.000000e+00   \n",
       "D8  0.0  0.0  0.000000e+00  0.000000e+00  0.000000e+00  0.000000e+00   \n",
       "\n",
       "             30            35            40            45   ...           150  \\\n",
       "D1  4.712794e-14  4.135316e-14  3.700895e-14  3.360789e-14  ...  1.355111e-14   \n",
       "D2  4.858398e-14  4.228828e-14  3.765156e-14  3.407173e-14  ...  1.357001e-14   \n",
       "D3  5.300504e-14  4.497918e-14  3.944086e-14  3.533526e-14  ...  1.361778e-14   \n",
       "D4  7.077092e-14  5.371221e-14  4.464964e-14  3.878026e-14  ...  1.372525e-14   \n",
       "D5  0.000000e+00  0.000000e+00  8.931212e-14  5.655527e-14  ...  1.400070e-14   \n",
       "D6  0.000000e+00  0.000000e+00  0.000000e+00  0.000000e+00  ...  1.474910e-14   \n",
       "D7  0.000000e+00  0.000000e+00  0.000000e+00  0.000000e+00  ...  1.733475e-14   \n",
       "D8  0.000000e+00  0.000000e+00  0.000000e+00  0.000000e+00  ...  0.000000e+00   \n",
       "\n",
       "             155           160           165           170           175  \\\n",
       "D1  1.325228e-14  1.297133e-14  1.270670e-14  1.245702e-14  1.222104e-14   \n",
       "D2  1.326964e-14  1.298732e-14  1.272147e-14  1.247069e-14  1.223372e-14   \n",
       "D3  1.331349e-14  1.302770e-14  1.275874e-14  1.250518e-14  1.226572e-14   \n",
       "D4  1.341203e-14  1.311831e-14  1.284230e-14  1.258243e-14  1.233731e-14   \n",
       "D5  1.366385e-14  1.334926e-14  1.305475e-14  1.277840e-14  1.251855e-14   \n",
       "D6  1.434327e-14  1.396849e-14  1.362117e-14  1.329825e-14  1.299714e-14   \n",
       "D7  1.662538e-14  1.599774e-14  1.543736e-14  1.493315e-14  1.447641e-14   \n",
       "D8  7.163658e-14  4.015763e-14  3.133019e-14  2.670091e-14  2.372801e-14   \n",
       "\n",
       "             180           185           190           195  \n",
       "D1  1.199768e-14  1.178594e-14  1.158496e-14  1.139392e-14  \n",
       "D2  1.200947e-14  1.179693e-14  1.159522e-14  1.140352e-14  \n",
       "D3  1.203921e-14  1.182464e-14  1.162108e-14  1.142770e-14  \n",
       "D4  1.210572e-14  1.188655e-14  1.167882e-14  1.148167e-14  \n",
       "D5  1.227374e-14  1.204268e-14  1.182422e-14  1.161734e-14  \n",
       "D6  1.271560e-14  1.245172e-14  1.220382e-14  1.197044e-14  \n",
       "D7  1.406025e-14  1.367910e-14  1.332841e-14  1.300443e-14  \n",
       "D8  2.160888e-14  1.999832e-14  1.871990e-14  1.767270e-14  \n",
       "\n",
       "[8 rows x 40 columns]"
      ]
     },
     "execution_count": 35,
     "metadata": {},
     "output_type": "execute_result"
    }
   ],
   "source": [
    "mat = {element[0]:{(f\"D\"+str(i+1)):charge for i, charge in enumerate(element[1])} for element in out}\n",
    "df = pd.DataFrame(mat)\n",
    "df"
   ]
  },
  {
   "cell_type": "code",
   "execution_count": 36,
   "metadata": {},
   "outputs": [
    {
     "data": {
      "image/png": "[encoded data removed]",
      "text/plain": [
       "<Figure size 640x480 with 2 Axes>"
      ]
     },
     "metadata": {},
     "output_type": "display_data"
    }
   ],
   "source": [
    "# set titme of sns\n",
    "sns.heatmap(df, annot=False)\n",
    "plt.show()"
   ]
  }
 ],
 "metadata": {
  "kernelspec": {
   "display_name": "Python 3",
   "language": "python",
   "name": "python3"
  },
  "language_info": {
   "codemirror_mode": {
    "name": "ipython",
    "version": 3
   },
   "file_extension": ".py",
   "mimetype": "text/x-python",
   "name": "python",
   "nbconvert_exporter": "python",
   "pygments_lexer": "ipython3",
   "version": "3.10.12"
  }
 },
 "nbformat": 4,
 "nbformat_minor": 2
}
