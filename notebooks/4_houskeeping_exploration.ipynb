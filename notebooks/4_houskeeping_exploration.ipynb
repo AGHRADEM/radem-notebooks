{
 "cells": [
  {
   "cell_type": "code",
   "execution_count": 22,
   "metadata": {},
   "outputs": [],
   "source": [
    "import pathlib\n",
    "import pandas as pd\n",
    "\n",
    "from spacepy import pycdf"
   ]
  },
  {
   "cell_type": "code",
   "execution_count": 14,
   "metadata": {},
   "outputs": [],
   "source": [
    "cdfs = [pycdf.CDF(str(path)) for path in pathlib.Path('../data').rglob('*.cdf') if str(path.name)[8:10] == 'hk']"
   ]
  },
  {
   "cell_type": "code",
   "execution_count": 15,
   "metadata": {},
   "outputs": [
    {
     "data": {
      "text/plain": [
       "<CDF:\n",
       "ASIC_DDH_ERR_hash: CDF_UINT2 [1440]\n",
       "ASIC_DDH_SEL: CDF_UINT1 [1440]\n",
       "ASIC_EDH_ERR_hash: CDF_UINT2 [1440]\n",
       "ASIC_EDH_SEL: CDF_UINT1 [1440]\n",
       "ASIC_P_IDH_ERR_hash: CDF_UINT2 [1440]\n",
       "ASIC_PandIDH_SEL: CDF_UINT1 [1440]\n",
       "BIST_Status: CDF_UINT1 [1440]\n",
       "CEU_Status: CDF_UINT1 [1440]\n",
       "DDH_ASIC_Status: CDF_UINT1 [1440]\n",
       "DDH_CL_Table: CDF_UINT1 [1440]\n",
       "DDH_Detector_Status: CDF_UINT1 [1440]\n",
       "DDH_Register_Table: CDF_UINT1 [1440]\n",
       "DDH_Scrub: CDF_UINT1 [1440]\n",
       "EDH_ASIC_Status: CDF_UINT1 [1440]\n",
       "EDH_CL_Table: CDF_UINT1 [1440]\n",
       "EDH_Detector_Status: CDF_UINT1 [1440]\n",
       "EDH_Register_Table: CDF_UINT1 [1440]\n",
       "EDH_Scrub: CDF_UINT1 [1440]\n",
       "Empty: CDF_UINT1 [1440]\n",
       "Empty2: CDF_UINT2 [1440]\n",
       "HH_DD_VBias: CDF_UINT2 [1440]\n",
       "HK_DD_Temp4: CDF_UINT2 [1440]\n",
       "HK_DD_p1d8V: CDF_UINT2 [1440]\n",
       "HK_DD_p3d3V: CDF_UINT2 [1440]\n",
       "HK_E_Stack_Temp3: CDF_UINT2 [1440]\n",
       "HK_E_Stack_p1d8V: CDF_UINT2 [1440]\n",
       "HK_E_Stack_p3d3V: CDF_UINT2 [1440]\n",
       "HK_Estack_Vbias: CDF_UINT2 [1440]\n",
       "HK_MBias: CDF_UINT2 [1440]\n",
       "HK_PandI_Stack_Temp2: CDF_UINT2 [1440]\n",
       "HK_PandI_Stack_p1d8V: CDF_UINT2 [1440]\n",
       "HK_PandI_Stack_p3d3V: CDF_UINT2 [1440]\n",
       "HK_Temp1_CEU: CDF_UINT2 [1440]\n",
       "HK_Temp5_CPU: CDF_UINT2 [1440]\n",
       "HK_VRef: CDF_UINT2 [1440]\n",
       "HK_p4d3V: CDF_UINT2 [1440]\n",
       "HK_pandI_Stack_Vbias: CDF_UINT2 [1440]\n",
       "HKp92d5V: CDF_UINT4 [1440]\n",
       "MRAM_Double_Error_Bit_Address: CDF_UINT4 [1440]\n",
       "MRAM_Double_Error_Bit_hash: CDF_UINT2 [1440]\n",
       "MRAM_Single_Error_Bit_Address: CDF_UINT4 [1440]\n",
       "MRAM_Single_Error_Bit_hash: CDF_UINT2 [1440]\n",
       "PandIDH_ASIC_Status: CDF_UINT1 [1440]\n",
       "PandIDH_CL_Table: CDF_UINT1 [1440]\n",
       "PandIDH_Detector_Status: CDF_UINT1 [1440]\n",
       "PandIDH_Register_Table: CDF_UINT1 [1440]\n",
       "PandIDH_Scrub: CDF_UINT1 [1440]\n",
       "SID: CDF_UINT4 [1440]\n",
       "SRAM_Double_Error_Bit_Address: CDF_UINT4 [1440]\n",
       "SRAM_Double_Error_Bit_hash: CDF_UINT2 [1440]\n",
       "SRAM_Single_Error_Bit_Address: CDF_UINT4 [1440]\n",
       "SRAM_Single_Error_Bit_hash: CDF_UINT2 [1440]\n",
       "TIME_OBT: CDF_CHAR*18 [1440]\n",
       "TIME_UTC: CDF_TIME_TT2000 [1440]\n",
       "uProcessor_Work_Load: CDF_UINT4 [1440]\n",
       ">"
      ]
     },
     "execution_count": 15,
     "metadata": {},
     "output_type": "execute_result"
    }
   ],
   "source": [
    "cdfs[0]"
   ]
  },
  {
   "cell_type": "code",
   "execution_count": 21,
   "metadata": {},
   "outputs": [],
   "source": [
    "def cdf_fields(cdf: pycdf.CDF):\n",
    "    return list(map(lambda f: f[0], cdf.items()))"
   ]
  },
  {
   "cell_type": "code",
   "execution_count": null,
   "metadata": {},
   "outputs": [],
   "source": [
    "def to_dataframe(cdf: pycdf.CDF):\n",
    "    return pd.DataFrame({\n",
    "        ''\n",
    "    })"
   ]
  }
 ],
 "metadata": {
  "kernelspec": {
   "display_name": "Python 3",
   "language": "python",
   "name": "python3"
  },
  "language_info": {
   "codemirror_mode": {
    "name": "ipython",
    "version": 3
   },
   "file_extension": ".py",
   "mimetype": "text/x-python",
   "name": "python",
   "nbconvert_exporter": "python",
   "pygments_lexer": "ipython3",
   "version": "3.11.8"
  }
 },
 "nbformat": 4,
 "nbformat_minor": 2
}
